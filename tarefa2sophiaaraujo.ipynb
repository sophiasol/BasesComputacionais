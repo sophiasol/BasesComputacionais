{
  "nbformat": 4,
  "nbformat_minor": 0,
  "metadata": {
    "colab": {
      "provenance": [],
      "authorship_tag": "ABX9TyOROYiX3h2BrcysREiEKeAL",
      "include_colab_link": true
    },
    "kernelspec": {
      "name": "python3",
      "display_name": "Python 3"
    },
    "language_info": {
      "name": "python"
    }
  },
  "cells": [
    {
      "cell_type": "markdown",
      "metadata": {
        "id": "view-in-github",
        "colab_type": "text"
      },
      "source": [
        "<a href=\"https://colab.research.google.com/github/sophiasol/BasesComputacionais/blob/master/tarefa2sophiaaraujo.ipynb\" target=\"_parent\"><img src=\"https://colab.research.google.com/assets/colab-badge.svg\" alt=\"Open In Colab\"/></a>"
      ]
    },
    {
      "cell_type": "markdown",
      "source": [],
      "metadata": {
        "id": "8I4NkQkPl1J2"
      }
    },
    {
      "cell_type": "markdown",
      "source": [
        "VOLUME DE UMA ESFERA COM O RAIO DE\n",
        "\n",
        "a)  R=0,32m, b)  R=1m, c)  R=1,9m."
      ],
      "metadata": {
        "id": "5PiUIKJ8l5Kr"
      }
    },
    {
      "cell_type": "code",
      "source": [
        "import numpy as np\n",
        "r = [8/25, 1/1, 10/19]\n",
        "#    0     1   2  \n",
        "\n",
        "for raio in range(3):\n",
        "  v = 4/3 * r[raio] * 22/7 \n",
        "  print('volume: ' + str(v))\n"
      ],
      "metadata": {
        "colab": {
          "base_uri": "https://localhost:8080/"
        },
        "id": "e8WWIxKBmDq9",
        "outputId": "8b78a365-bec1-430f-9e11-0cc76c20b1db"
      },
      "execution_count": 12,
      "outputs": [
        {
          "output_type": "stream",
          "name": "stdout",
          "text": [
            "volume: 1.340952380952381\n",
            "volume: 4.190476190476191\n",
            "volume: 2.2055137844611528\n"
          ]
        }
      ]
    },
    {
      "cell_type": "markdown",
      "source": [
        "TEMPERATURA EM FAHRENHEIT DADA A TEMPERATURA EM CELCIUS \n",
        "\n",
        " a)Tc=−10∘C  , b)Tc=30∘C  , c)Tc=5∘C"
      ],
      "metadata": {
        "id": "oijoHxcxpEXV"
      }
    },
    {
      "cell_type": "code",
      "source": [
        "import numpy as np \n",
        "tc = [-10, 30, 5]\n",
        "#      0   1   2\n",
        "\n",
        "for celcius in range(3):\n",
        "   f = tc[celcius] * 9/5 + 32\n",
        "   print('fahrenheit: ' + str(f))\n"
      ],
      "metadata": {
        "id": "8gjt2ly_sb7j",
        "colab": {
          "base_uri": "https://localhost:8080/"
        },
        "outputId": "fba0c620-9fad-47f4-c88b-d2f02f758f49"
      },
      "execution_count": 52,
      "outputs": [
        {
          "output_type": "stream",
          "name": "stdout",
          "text": [
            "fahrenheit: 14.0\n",
            "fahrenheit: 86.0\n",
            "fahrenheit: 41.0\n"
          ]
        }
      ]
    },
    {
      "cell_type": "markdown",
      "source": [
        "LADO C DE UM TRIÂNGULO DADO OS LADOS A E B E O ÂNGULO\n",
        "\n",
        "\n",
        "A) a=1, b=2 e θ=30∘, B) a=3, b=1 e θ=45∘, C) a=10, b=11 e  θ=15∘"
      ],
      "metadata": {
        "id": "7dGikWRlwUOz"
      }
    },
    {
      "cell_type": "code",
      "source": [
        "import numpy as np \n",
        "a = [1, 3, 10]\n",
        "#    0  1   2\n",
        "\n",
        "b = [2, 1, 11]\n",
        "#    0  1   2\n",
        "\n",
        "cos = [0.86, 0.70, 0.96] # resultado dos cossenos de 10, 11 e 15 graus respectivamente \n",
        "#       0      1     2\n",
        "\n",
        "for i in range(3):\n",
        "  c = a[i]**2 + b[i]**2 - 2 * a[i] * b[i] * cos[i]\n",
        "  print('lado c: raiz quadrada de ' + str(c))\n",
        " "
      ],
      "metadata": {
        "id": "apxVwJOuxCZj",
        "outputId": "5fbba8c0-437f-47bf-8a68-81db3dacc279",
        "colab": {
          "base_uri": "https://localhost:8080/"
        }
      },
      "execution_count": 51,
      "outputs": [
        {
          "output_type": "stream",
          "name": "stdout",
          "text": [
            "lado c: raiz quadrada de 1.56\n",
            "lado c: raiz quadrada de 5.800000000000001\n",
            "lado c: raiz quadrada de 9.800000000000011\n"
          ]
        }
      ]
    },
    {
      "cell_type": "markdown",
      "source": [
        "SÉRIE DE FIBONACC COM VÁRIAVEL I \n",
        "\n",
        "a)  i  = 30, b)  i = 31 e c)  i  = 32.\n",
        "\n",
        "\n"
      ],
      "metadata": {
        "id": "S_2RILTrcaoY"
      }
    },
    {
      "cell_type": "code",
      "source": [
        "import numpy as np \n",
        "i = [30, 31, 32] \n",
        "#    0   1   2\n",
        "\n",
        "for váriavel in range(3):\n",
        "  fi = np.floor(1 + 2.23**i[váriavel] - 1 - 2.23**i[váriavel] / 2.23) # onde raiz de 5 é igual a 2.23 \n",
        "  print('fi: ' + str(fi))"
      ],
      "metadata": {
        "id": "vMrmrLxDdwKi",
        "outputId": "939e884e-451f-4933-d81e-0b15952df335",
        "colab": {
          "base_uri": "https://localhost:8080/"
        }
      },
      "execution_count": 58,
      "outputs": [
        {
          "output_type": "stream",
          "name": "stdout",
          "text": [
            "fi: 15514798511.0\n",
            "fi: 34598000680.0\n",
            "fi: 77153541517.0\n"
          ]
        }
      ]
    }
  ]
}