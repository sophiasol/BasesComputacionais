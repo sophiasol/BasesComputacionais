{
  "nbformat": 4,
  "nbformat_minor": 0,
  "metadata": {
    "colab": {
      "provenance": [],
      "authorship_tag": "ABX9TyOC9AMtms0nSplc8/n8uov5",
      "include_colab_link": true
    },
    "kernelspec": {
      "name": "python3",
      "display_name": "Python 3"
    },
    "language_info": {
      "name": "python"
    }
  },
  "cells": [
    {
      "cell_type": "markdown",
      "metadata": {
        "id": "view-in-github",
        "colab_type": "text"
      },
      "source": [
        "<a href=\"https://colab.research.google.com/github/sophiasol/BasesComputacionais/blob/master/tarefa13sophiaaraujo.ipynb\" target=\"_parent\"><img src=\"https://colab.research.google.com/assets/colab-badge.svg\" alt=\"Open In Colab\"/></a>"
      ]
    },
    {
      "cell_type": "markdown",
      "source": [
        "SOPHIA CORREIA DE ARAUJO"
      ],
      "metadata": {
        "id": "kx0nM76IMMLn"
      }
    },
    {
      "cell_type": "markdown",
      "source": [
        "Escolha um time e faça o histograma da distribuição do público nos jogos em que este time foi o mandante.\n",
        "\n",
        "Calcule qual foi o público médio nos jogos em que o time escolhido foi o mandante."
      ],
      "metadata": {
        "id": "GjC7AQtJMQQB"
      }
    },
    {
      "cell_type": "code",
      "source": [
        "import matplotlib.pyplot as plt\n",
        "import pandas as pd\n",
        "import numpy as np\n",
        "\n",
        "time = pd.read_csv('https://raw.githubusercontent.com/BMClab/BasesComputacionais/master/dados/tabelaBrasileirao2018.csv')\n",
        "time \n",
        "\n",
        "mediatimes = np.mean(time)\n",
        "print(mediatimes)\n",
        "\n",
        "plt.figure()\n",
        "plt.hist(['time'])\n",
        "plt.xlabel('time')\n",
        "plt.show()"
      ],
      "metadata": {
        "id": "FzC4qstzMc5m",
        "colab": {
          "base_uri": "https://localhost:8080/",
          "height": 438
        },
        "outputId": "93d0a521-6327-429f-b5d8-26169078bc26"
      },
      "execution_count": 22,
      "outputs": [
        {
          "output_type": "stream",
          "name": "stdout",
          "text": [
            "Turno                       1.500000\n",
            "Placar do Mandante          1.381579\n",
            "Placar do Visitante         0.794737\n",
            "Público                 18863.318421\n",
            "Renda (R$)             570256.188342\n",
            "dtype: float64\n"
          ]
        },
        {
          "output_type": "stream",
          "name": "stderr",
          "text": [
            "/usr/local/lib/python3.7/dist-packages/numpy/core/fromnumeric.py:3438: FutureWarning: Dropping of nuisance columns in DataFrame reductions (with 'numeric_only=None') is deprecated; in a future version this will raise TypeError.  Select only valid columns before calling the reduction.\n",
            "  return mean(axis=axis, dtype=dtype, out=out, **kwargs)\n"
          ]
        },
        {
          "output_type": "display_data",
          "data": {
            "text/plain": [
              "<Figure size 432x288 with 1 Axes>"
            ],
            "image/png": "[encoded data removed]"
          },
          "metadata": {
            "needs_background": "light"
          }
        }
      ]
    }
  ]
}