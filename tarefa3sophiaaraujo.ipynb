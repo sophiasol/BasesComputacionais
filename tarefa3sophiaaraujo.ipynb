{
  "nbformat": 4,
  "nbformat_minor": 0,
  "metadata": {
    "colab": {
      "provenance": [],
      "authorship_tag": "ABX9TyPpbauwCu3J6G25P8Aw0ONi",
      "include_colab_link": true
    },
    "kernelspec": {
      "name": "python3",
      "display_name": "Python 3"
    },
    "language_info": {
      "name": "python"
    }
  },
  "cells": [
    {
      "cell_type": "markdown",
      "metadata": {
        "id": "view-in-github",
        "colab_type": "text"
      },
      "source": [
        "<a href=\"https://colab.research.google.com/github/sophiasol/BasesComputacionais/blob/master/sophiaaraujo.ipynb\" target=\"_parent\"><img src=\"https://colab.research.google.com/assets/colab-badge.svg\" alt=\"Open In Colab\"/></a>"
      ]
    },
    {
      "cell_type": "code",
      "source": [
        "import numpy as np \n",
        "h = [1.5, 12, 24]\n",
        "#     0   1   2 \n",
        "\n",
        "\n",
        "for horas in range(3):\n",
        "  s = h[horas] * 60 * 60\n",
        "  print('segundos' + str(s))\n",
        "\n",
        "\n"
      ],
      "metadata": {
        "colab": {
          "base_uri": "https://localhost:8080/"
        },
        "id": "RJj2LsdW7TWw",
        "outputId": "206b2491-6317-4117-a45e-b8a989f3f266"
      },
      "execution_count": null,
      "outputs": [
        {
          "output_type": "stream",
          "name": "stdout",
          "text": [
            "segundos5400.0\n",
            "segundos43200\n",
            "segundos86400\n"
          ]
        }
      ]
    },
    {
      "cell_type": "markdown",
      "source": [
        "calculo do número de segundos s , dado o número de horas contida em uma variável h 1 hora e meia 12 horas 24 horas;\n",
        "\n",
        "usando o cálculo: s = h[horas] * 60 * 60"
      ],
      "metadata": {
        "id": "YWFuHZlyiMhX"
      }
    }
  ]
}
