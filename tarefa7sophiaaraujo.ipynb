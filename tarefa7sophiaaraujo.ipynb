{
  "nbformat": 4,
  "nbformat_minor": 0,
  "metadata": {
    "colab": {
      "provenance": [],
      "authorship_tag": "ABX9TyNR6ygvTiXck6P489u+f+p4",
      "include_colab_link": true
    },
    "kernelspec": {
      "name": "python3",
      "display_name": "Python 3"
    },
    "language_info": {
      "name": "python"
    }
  },
  "cells": [
    {
      "cell_type": "markdown",
      "metadata": {
        "id": "view-in-github",
        "colab_type": "text"
      },
      "source": [
        "<a href=\"https://colab.research.google.com/github/sophiasol/BasesComputacionais/blob/master/tarefa7sophiaaraujo.ipynb\" target=\"_parent\"><img src=\"https://colab.research.google.com/assets/colab-badge.svg\" alt=\"Open In Colab\"/></a>"
      ]
    },
    {
      "cell_type": "markdown",
      "source": [
        "Sophia Correia de Araujo"
      ],
      "metadata": {
        "id": "uY5bLHMKjq0w"
      }
    },
    {
      "cell_type": "markdown",
      "source": [
        "Programa que mostre se o número inteiro guardado na variável  x  é par ou ímpar.\n",
        "\n",
        " a)  x  = 1, b)  x  = 24, c)  x  = 10, d)  x  = 5."
      ],
      "metadata": {
        "id": "TRjx8aaXjvDK"
      }
    },
    {
      "cell_type": "code",
      "source": [
        "import numpy as np\n",
        "x = 1\n",
        "y = 5\n",
        "if x==1 and y==5:  #se a váriavel for igual a esses valores então o número é ímpar\n",
        "        print(\"-os números a (1) e d (5) são ímpares\")\n",
        "        \n",
        "z = 24\n",
        "w = 10\n",
        "if z==24 and w==10: #se a váriavel for igual a esses valores então o número é par\n",
        "         print(\"-os números b (24) e c (10) são pares\")\n",
        "         "
      ],
      "metadata": {
        "colab": {
          "base_uri": "https://localhost:8080/"
        },
        "id": "t459s1P5j3Zh",
        "outputId": "07c6ec4a-eddb-42aa-b3a7-8c8480478a36"
      },
      "execution_count": 24,
      "outputs": [
        {
          "output_type": "stream",
          "name": "stdout",
          "text": [
            "-os números a (1) e d (5) são ímpares\n",
            "-os números b (24) e c (10) são pares\n"
          ]
        }
      ]
    }
  ]
}