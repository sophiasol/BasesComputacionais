{
  "nbformat": 4,
  "nbformat_minor": 0,
  "metadata": {
    "colab": {
      "provenance": [],
      "authorship_tag": "ABX9TyNdt4Yb3Mt1xOBTi7S+H7Y2",
      "include_colab_link": true
    },
    "kernelspec": {
      "name": "python3",
      "display_name": "Python 3"
    },
    "language_info": {
      "name": "python"
    }
  },
  "cells": [
    {
      "cell_type": "markdown",
      "metadata": {
        "id": "view-in-github",
        "colab_type": "text"
      },
      "source": [
        "<a href=\"https://colab.research.google.com/github/sophiasol/BasesComputacionais/blob/master/Tarefa5SophiaAraujo4.ipynb\" target=\"_parent\"><img src=\"https://colab.research.google.com/assets/colab-badge.svg\" alt=\"Open In Colab\"/></a>"
      ]
    },
    {
      "cell_type": "code",
      "execution_count": 7,
      "metadata": {
        "colab": {
          "base_uri": "https://localhost:8080/",
          "height": 352
        },
        "id": "ZVsUrDxVHqeW",
        "outputId": "ea44eeca-4f20-44af-ce61-adea9ac6d81b"
      },
      "outputs": [
        {
          "output_type": "stream",
          "name": "stdout",
          "text": [
            "[ 0.    0.39  0.76  1.11  1.44  1.75  2.04  2.31  2.56  2.79  3.    3.19\n",
            "  3.36  3.51  3.64  3.75  3.84  3.91  3.96  3.99  4.    3.99  3.96  3.91\n",
            "  3.84  3.75  3.64  3.51  3.36  3.19  3.    2.79  2.56  2.31  2.04  1.75\n",
            "  1.44  1.11  0.76  0.39  0.   -0.41 -0.84 -1.29 -1.76 -2.25 -2.76 -3.29\n",
            " -3.84 -4.41]\n"
          ]
        },
        {
          "output_type": "display_data",
          "data": {
            "text/plain": [
              "<Figure size 432x288 with 1 Axes>"
            ],
            "image/png": "[encoded data removed]"
          },
          "metadata": {
            "needs_background": "light"
          }
        }
      ],
      "source": [
        "import numpy as np\n",
        "import matplotlib.pyplot as plt\n",
        " \n",
        "t = np.arange (0, 5, 0.1)\n",
        "\n",
        "h = - t ** 2 + 4 * t\n",
        "\n",
        "print(h)\n",
        "\n",
        "plt.figure()\n",
        "plt.plot(h,t, color='yellow')\n",
        "plt.show()"
      ]
    }
  ]
}