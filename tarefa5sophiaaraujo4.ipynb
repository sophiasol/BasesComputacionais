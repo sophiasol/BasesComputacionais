{
  "nbformat": 4,
  "nbformat_minor": 0,
  "metadata": {
    "colab": {
      "provenance": [],
      "authorship_tag": "ABX9TyOBmCSUIB6UvUBRQOIyXOvl",
      "include_colab_link": true
    },
    "kernelspec": {
      "name": "python3",
      "display_name": "Python 3"
    },
    "language_info": {
      "name": "python"
    }
  },
  "cells": [
    {
      "cell_type": "markdown",
      "metadata": {
        "id": "view-in-github",
        "colab_type": "text"
      },
      "source": [
        "<a href=\"https://colab.research.google.com/github/sophiasol/BasesComputacionais/blob/master/tarefa5sophiaaraujo4.ipynb\" target=\"_parent\"><img src=\"https://colab.research.google.com/assets/colab-badge.svg\" alt=\"Open In Colab\"/></a>"
      ]
    },
    {
      "cell_type": "code",
      "execution_count": 1,
      "metadata": {
        "colab": {
          "base_uri": "https://localhost:8080/",
          "height": 352
        },
        "id": "ZVsUrDxVHqeW",
        "outputId": "75d15b01-2f8b-417a-9429-6d108bef53c0"
      },
      "outputs": [
        {
          "output_type": "stream",
          "name": "stdout",
          "text": [
            "[ 0.    0.39  0.76  1.11  1.44  1.75  2.04  2.31  2.56  2.79  3.    3.19\n",
            "  3.36  3.51  3.64  3.75  3.84  3.91  3.96  3.99  4.    3.99  3.96  3.91\n",
            "  3.84  3.75  3.64  3.51  3.36  3.19  3.    2.79  2.56  2.31  2.04  1.75\n",
            "  1.44  1.11  0.76  0.39  0.   -0.41 -0.84 -1.29 -1.76 -2.25 -2.76 -3.29\n",
            " -3.84 -4.41]\n"
          ]
        },
        {
          "output_type": "display_data",
          "data": {
            "text/plain": [
              "<Figure size 432x288 with 1 Axes>"
            ],
            "image/png": "[encoded data removed]"
          },
          "metadata": {
            "needs_background": "light"
          }
        }
      ],
      "source": [
        "import numpy as np\n",
        "import matplotlib.pyplot as plt\n",
        " \n",
        "t = np.arange (0, 5, 0.1)\n",
        "\n",
        "h = - t ** 2 + 4 * t\n",
        "\n",
        "print(h)\n",
        "\n",
        "plt.figure()\n",
        "plt.plot(t,h, color='yellow')\n",
        "plt.show()"
      ]
    }
  ]
}